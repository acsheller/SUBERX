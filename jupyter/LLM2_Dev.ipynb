{
 "cells": [
  {
   "cell_type": "markdown",
   "id": "e038baa6-420f-4d42-bf91-a7123d871d41",
   "metadata": {},
   "source": [
    "# LLM and GPT4ALL\n",
    "\n",
    "This notebook is "
   ]
  }
 ],
 "metadata": {
  "kernelspec": {
   "display_name": "Python 3 (ipykernel)",
   "language": "python",
   "name": "python3"
  },
  "language_info": {
   "codemirror_mode": {
    "name": "ipython",
    "version": 3
   },
   "file_extension": ".py",
   "mimetype": "text/x-python",
   "name": "python",
   "nbconvert_exporter": "python",
   "pygments_lexer": "ipython3",
   "version": "3.10.12"
  }
 },
 "nbformat": 4,
 "nbformat_minor": 5
}
